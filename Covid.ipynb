{
 "cells": [
  {
   "cell_type": "code",
   "execution_count": 342,
   "metadata": {},
   "outputs": [],
   "source": [
    "import pandas as pd\n",
    "import numpy as np\n",
    "from datetime import datetime\n",
    "import matplotlib.pyplot as plt\n",
    "import seaborn as sns\n",
    "from sklearn.preprocessing import PolynomialFeatures"
   ]
  },
  {
   "cell_type": "markdown",
   "metadata": {},
   "source": [
    "### firstly, let´s check the dataframe structure"
   ]
  },
  {
   "cell_type": "code",
   "execution_count": 160,
   "metadata": {},
   "outputs": [
    {
     "data": {
      "text/html": [
       "<div>\n",
       "<style scoped>\n",
       "    .dataframe tbody tr th:only-of-type {\n",
       "        vertical-align: middle;\n",
       "    }\n",
       "\n",
       "    .dataframe tbody tr th {\n",
       "        vertical-align: top;\n",
       "    }\n",
       "\n",
       "    .dataframe thead th {\n",
       "        text-align: right;\n",
       "    }\n",
       "</style>\n",
       "<table border=\"1\" class=\"dataframe\">\n",
       "  <thead>\n",
       "    <tr style=\"text-align: right;\">\n",
       "      <th></th>\n",
       "      <th>Unnamed: 0</th>\n",
       "      <th>date</th>\n",
       "      <th>country</th>\n",
       "      <th>areacode</th>\n",
       "      <th>area</th>\n",
       "      <th>totalcases</th>\n",
       "    </tr>\n",
       "  </thead>\n",
       "  <tbody>\n",
       "    <tr>\n",
       "      <th>0</th>\n",
       "      <td>0</td>\n",
       "      <td>2020-01-30</td>\n",
       "      <td>England</td>\n",
       "      <td>E06000014</td>\n",
       "      <td>York</td>\n",
       "      <td>1.0</td>\n",
       "    </tr>\n",
       "    <tr>\n",
       "      <th>1</th>\n",
       "      <td>1</td>\n",
       "      <td>2020-02-03</td>\n",
       "      <td>England</td>\n",
       "      <td>E10000002</td>\n",
       "      <td>Buckinghamshire</td>\n",
       "      <td>1.0</td>\n",
       "    </tr>\n",
       "    <tr>\n",
       "      <th>2</th>\n",
       "      <td>2</td>\n",
       "      <td>2020-02-03</td>\n",
       "      <td>Wales</td>\n",
       "      <td>W11000028</td>\n",
       "      <td>Aneurin Bevan</td>\n",
       "      <td>0.0</td>\n",
       "    </tr>\n",
       "    <tr>\n",
       "      <th>3</th>\n",
       "      <td>3</td>\n",
       "      <td>2020-02-03</td>\n",
       "      <td>Wales</td>\n",
       "      <td>W11000023</td>\n",
       "      <td>Betsi Cadwaladr</td>\n",
       "      <td>0.0</td>\n",
       "    </tr>\n",
       "    <tr>\n",
       "      <th>4</th>\n",
       "      <td>4</td>\n",
       "      <td>2020-02-03</td>\n",
       "      <td>Wales</td>\n",
       "      <td>W11000029</td>\n",
       "      <td>Cardiff and Vale</td>\n",
       "      <td>0.0</td>\n",
       "    </tr>\n",
       "    <tr>\n",
       "      <th>...</th>\n",
       "      <td>...</td>\n",
       "      <td>...</td>\n",
       "      <td>...</td>\n",
       "      <td>...</td>\n",
       "      <td>...</td>\n",
       "      <td>...</td>\n",
       "    </tr>\n",
       "    <tr>\n",
       "      <th>23293</th>\n",
       "      <td>23293</td>\n",
       "      <td>2020-07-29</td>\n",
       "      <td>Scotland</td>\n",
       "      <td>S08000024</td>\n",
       "      <td>Lothian</td>\n",
       "      <td>3192.0</td>\n",
       "    </tr>\n",
       "    <tr>\n",
       "      <th>23294</th>\n",
       "      <td>23294</td>\n",
       "      <td>2020-07-29</td>\n",
       "      <td>Scotland</td>\n",
       "      <td>S08000025</td>\n",
       "      <td>Orkney</td>\n",
       "      <td>9.0</td>\n",
       "    </tr>\n",
       "    <tr>\n",
       "      <th>23295</th>\n",
       "      <td>23295</td>\n",
       "      <td>2020-07-29</td>\n",
       "      <td>Scotland</td>\n",
       "      <td>S08000026</td>\n",
       "      <td>Shetland</td>\n",
       "      <td>54.0</td>\n",
       "    </tr>\n",
       "    <tr>\n",
       "      <th>23296</th>\n",
       "      <td>23296</td>\n",
       "      <td>2020-07-29</td>\n",
       "      <td>Scotland</td>\n",
       "      <td>S08000030</td>\n",
       "      <td>Tayside</td>\n",
       "      <td>1785.0</td>\n",
       "    </tr>\n",
       "    <tr>\n",
       "      <th>23297</th>\n",
       "      <td>23297</td>\n",
       "      <td>2020-07-29</td>\n",
       "      <td>Scotland</td>\n",
       "      <td>S08000028</td>\n",
       "      <td>Western Isles</td>\n",
       "      <td>7.0</td>\n",
       "    </tr>\n",
       "  </tbody>\n",
       "</table>\n",
       "<p>23298 rows × 6 columns</p>\n",
       "</div>"
      ],
      "text/plain": [
       "       Unnamed: 0        date   country   areacode              area  \\\n",
       "0               0  2020-01-30   England  E06000014              York   \n",
       "1               1  2020-02-03   England  E10000002   Buckinghamshire   \n",
       "2               2  2020-02-03     Wales  W11000028     Aneurin Bevan   \n",
       "3               3  2020-02-03     Wales  W11000023   Betsi Cadwaladr   \n",
       "4               4  2020-02-03     Wales  W11000029  Cardiff and Vale   \n",
       "...           ...         ...       ...        ...               ...   \n",
       "23293       23293  2020-07-29  Scotland  S08000024           Lothian   \n",
       "23294       23294  2020-07-29  Scotland  S08000025            Orkney   \n",
       "23295       23295  2020-07-29  Scotland  S08000026          Shetland   \n",
       "23296       23296  2020-07-29  Scotland  S08000030           Tayside   \n",
       "23297       23297  2020-07-29  Scotland  S08000028     Western Isles   \n",
       "\n",
       "       totalcases  \n",
       "0             1.0  \n",
       "1             1.0  \n",
       "2             0.0  \n",
       "3             0.0  \n",
       "4             0.0  \n",
       "...           ...  \n",
       "23293      3192.0  \n",
       "23294         9.0  \n",
       "23295        54.0  \n",
       "23296      1785.0  \n",
       "23297         7.0  \n",
       "\n",
       "[23298 rows x 6 columns]"
      ]
     },
     "execution_count": 160,
     "metadata": {},
     "output_type": "execute_result"
    }
   ],
   "source": [
    "df= pd.read_csv(\"covid-19-uk-historical-data.csv\")\n",
    "df"
   ]
  },
  {
   "cell_type": "code",
   "execution_count": 161,
   "metadata": {},
   "outputs": [],
   "source": [
    "date_lst=[]\n",
    "\n",
    "for date in df.date:\n",
    "\n",
    "    date=datetime.strptime(date, \"%Y-%m-%d\")\n",
    "    date_lst.append(date)\n",
    "df[\"datetime\"]=date_lst\n",
    "\n",
    "\n",
    "\n",
    "def find_days(df):\n",
    "    days_lst=[0]\n",
    "    m=0\n",
    "    n=0\n",
    "    for days in df[\"datetime\"]:\n",
    "\n",
    "            m+=1\n",
    "\n",
    "            if m<df.shape[0]:\n",
    "\n",
    "                delta=df[\"datetime\"][m]-df[\"datetime\"][n]\n",
    "                n+=1\n",
    "\n",
    "                #print(delta)\n",
    "                #print(delta.days)\n",
    "                days_lst.append(delta.days)\n",
    "            else:\n",
    "                break\n",
    "    df[\"days\"] = days_lst\n",
    "\n",
    "\n",
    "find_days(df)\n",
    "    \n",
    "    "
   ]
  },
  {
   "cell_type": "code",
   "execution_count": 162,
   "metadata": {},
   "outputs": [],
   "source": [
    "df.days= df.datetime - df.datetime[0]   # simplest way to find intervals! No function required, no for cycles no df.apply() etc\n",
    "\n",
    "\n"
   ]
  },
  {
   "cell_type": "code",
   "execution_count": 163,
   "metadata": {
    "scrolled": true
   },
   "outputs": [],
   "source": [
    "time_range= df.datetime[df.shape[0]-1]-df.datetime[0]   #This trick is amazing to avoid having a Series as a result. Not sure why it works\n",
    "\n",
    "\"this will be used for plotting later: \"\n",
    "\n",
    "tot_days= time_range.days"
   ]
  },
  {
   "cell_type": "markdown",
   "metadata": {},
   "source": [
    "lockdown was imposed on the 23rd of March 2020, 23-03-2020"
   ]
  },
  {
   "cell_type": "code",
   "execution_count": 361,
   "metadata": {},
   "outputs": [
    {
     "data": {
      "text/html": [
       "<div>\n",
       "<style scoped>\n",
       "    .dataframe tbody tr th:only-of-type {\n",
       "        vertical-align: middle;\n",
       "    }\n",
       "\n",
       "    .dataframe tbody tr th {\n",
       "        vertical-align: top;\n",
       "    }\n",
       "\n",
       "    .dataframe thead th {\n",
       "        text-align: right;\n",
       "    }\n",
       "</style>\n",
       "<table border=\"1\" class=\"dataframe\">\n",
       "  <thead>\n",
       "    <tr style=\"text-align: right;\">\n",
       "      <th></th>\n",
       "      <th>Unnamed: 0</th>\n",
       "      <th>date</th>\n",
       "      <th>country</th>\n",
       "      <th>areacode</th>\n",
       "      <th>area</th>\n",
       "      <th>totalcases</th>\n",
       "      <th>datetime</th>\n",
       "      <th>days</th>\n",
       "    </tr>\n",
       "  </thead>\n",
       "  <tbody>\n",
       "    <tr>\n",
       "      <th>5525</th>\n",
       "      <td>5525</td>\n",
       "      <td>2020-04-09</td>\n",
       "      <td>England</td>\n",
       "      <td>E09000002</td>\n",
       "      <td>Barking and Dagenham</td>\n",
       "      <td>337.0</td>\n",
       "      <td>2020-04-09</td>\n",
       "      <td>70 days</td>\n",
       "    </tr>\n",
       "  </tbody>\n",
       "</table>\n",
       "</div>"
      ],
      "text/plain": [
       "      Unnamed: 0        date  country   areacode                  area  \\\n",
       "5525        5525  2020-04-09  England  E09000002  Barking and Dagenham   \n",
       "\n",
       "      totalcases   datetime    days  \n",
       "5525       337.0 2020-04-09 70 days  "
      ]
     },
     "execution_count": 361,
     "metadata": {},
     "output_type": "execute_result"
    }
   ],
   "source": [
    "df[df[\"date\"]==\"2020-04-09\"].head(1)"
   ]
  },
  {
   "cell_type": "markdown",
   "metadata": {},
   "source": [
    "Lockdown began on day 52!"
   ]
  },
  {
   "cell_type": "code",
   "execution_count": 363,
   "metadata": {},
   "outputs": [
    {
     "name": "stderr",
     "output_type": "stream",
     "text": [
      "<ipython-input-363-60769bac4ae3>:44: UserWarning: Boolean Series key will be reindexed to match DataFrame index.\n",
      "  Y_2= new_df[new_df[\"days\"] < 90 ][new_df[\"days\"] > 57 ]\n"
     ]
    },
    {
     "data": {
      "image/png": "[encoded data removed]",
      "text/plain": [
       "<Figure size 432x288 with 1 Axes>"
      ]
     },
     "metadata": {
      "needs_background": "light"
     },
     "output_type": "display_data"
    },
    {
     "data": {
      "image/png": "[encoded data removed]",
      "text/plain": [
       "<Figure size 432x288 with 1 Axes>"
      ]
     },
     "metadata": {
      "needs_background": "light"
     },
     "output_type": "display_data"
    }
   ],
   "source": [
    "England_df= df[df[\"country\"]== \"England\"]\n",
    "\n",
    "Scotland_df= df[df[\"country\"]== \"Scotland\"]\n",
    "\n",
    "Wales_df= df[df[\"country\"]== \"Wales\"]\n",
    "\n",
    "NI_df= df[df[\"country\"]== \"Northern Ireland\"]\n",
    "\n",
    "\n",
    "\n",
    "def get_total(df,d):     # d is the number of days to use to make predictions using the machine learning model \n",
    "    \n",
    "    \n",
    "    days=[]\n",
    "    total_cases=[]\n",
    "    for n in range(182):\n",
    "        tot= df[df[\"days\"] ==pd.Timedelta(n, unit='d') ].totalcases.sum()\n",
    "        days.append(n)\n",
    "        total_cases.append(tot)\n",
    "    \n",
    "    new_df= pd.DataFrame({\"days\": days,\"totalcases\": total_cases})\n",
    "    new_df.plot(kind='bar',x='days',y='totalcases', xticks=range(0,182,30), rot=0)\n",
    "    \n",
    "    plt.axvline(x=52)\n",
    "    \n",
    "    \n",
    "    \"\"\"the buffer period has been included to show possible delay in how the measures affected transmission, \n",
    "    namely up to 5 days after the lockdown started, \n",
    "    the registered cases were still of infections occurred before the lockdown itself\"\"\"\n",
    "    \n",
    "    plt.axvline(x=57, color='#ff1414') # a buffer period of 10 days has been considered\n",
    "    \n",
    "    \n",
    "    \n",
    "    '''MACHINE LEARNING PART WITH SCI-KIT LEARN '''\n",
    "    '''MACHINE LEARNING PART WITH SCI-KIT LEARN '''\n",
    "    \n",
    "    \n",
    "    Y_1= new_df[new_df[\"days\"] < 57 ]\n",
    "    Y_1= Y_1.totalcases\n",
    "    Y_1= Y_1 + 0.01 # get rid of zeroes\n",
    "    Y_1= np.log(Y_1)# to make it \"fittable\" with linear regression \n",
    "    \n",
    "    Y_2= new_df[new_df[\"days\"] < 90 ][new_df[\"days\"] > 57 ]\n",
    "    Y_2= Y_2.totalcases\n",
    "    \n",
    "    \n",
    "    'X used to train:'\n",
    "    \n",
    "    X_1=np.array(range(57))\n",
    "    X_2=np.array(range(32))\n",
    "    \n",
    "    X_1=X_1.reshape(-1, 1)\n",
    "    X_2=X_2.reshape(-1, 1)\n",
    "    \n",
    "    \n",
    "    linear_1=LinearRegression()\n",
    "    linear_2=LinearRegression()\n",
    "    model_1=linear_1.fit(X_1,Y_1) \n",
    "    model_2=linear_2.fit(X_2,Y_2) \n",
    "    \n",
    "    \n",
    "    'X used to predict:'\n",
    "    \n",
    "    X_pred_2= np.array(range(60))\n",
    "    X_pred_2= X_pred_2.reshape(-1, 1)\n",
    "    \n",
    "    X_pred_1= np.array(range(d))\n",
    "    X_pred_1= X_pred_1.reshape(-1, 1)\n",
    "    \n",
    "    \n",
    "    pred_1=model_1.predict(X_pred_1) #I expect this to be exponential \n",
    "    pred_2=model_2.predict(X_pred_2) #I expect this to be linear\n",
    "    \n",
    "    ''' END OF THE MACHINE LEARNING PART '''\n",
    "    ''' END OF THE MACHINE LEARNING PART '''\n",
    "    \n",
    "    pred_1= np.exp(pred_1)\n",
    "    \n",
    "    \n",
    "    \n",
    "    \"Same code as before just to duplicate plot\"\n",
    "    new_df.plot(kind='bar',x='days',y='totalcases', xticks=range(0,182,30), rot=0)\n",
    "    plt.axvline(x=52)\n",
    "    plt.axvline(x=57, color='#ff1414')\n",
    "    \"END\"\n",
    "    \n",
    "    plt.scatter(np.array(range(d)),pred_1)\n",
    "    \n",
    "    #print(model_2.get_params())\n",
    "    plt.plot(np.array(range(60,120)),pred_2)\n",
    "    \n",
    "    return new_df\n",
    "    \n",
    "total_England_df= get_total(England_df, 65)\n"
   ]
  },
  {
   "cell_type": "code",
   "execution_count": 350,
   "metadata": {},
   "outputs": [
    {
     "name": "stderr",
     "output_type": "stream",
     "text": [
      "<ipython-input-347-1a57a89acc89>:44: UserWarning: Boolean Series key will be reindexed to match DataFrame index.\n",
      "  Y_2= new_df[new_df[\"days\"] < 90 ][new_df[\"days\"] > 57 ]\n"
     ]
    },
    {
     "data": {
      "image/png": "[encoded data removed]",
      "text/plain": [
       "<Figure size 432x288 with 1 Axes>"
      ]
     },
     "metadata": {
      "needs_background": "light"
     },
     "output_type": "display_data"
    },
    {
     "data": {
      "image/png": "[encoded data removed]",
      "text/plain": [
       "<Figure size 432x288 with 1 Axes>"
      ]
     },
     "metadata": {
      "needs_background": "light"
     },
     "output_type": "display_data"
    }
   ],
   "source": [
    "total_Scotland_df= get_total(Scotland_df,65)\n",
    "\n"
   ]
  },
  {
   "cell_type": "code",
   "execution_count": 352,
   "metadata": {},
   "outputs": [
    {
     "name": "stderr",
     "output_type": "stream",
     "text": [
      "<ipython-input-347-1a57a89acc89>:44: UserWarning: Boolean Series key will be reindexed to match DataFrame index.\n",
      "  Y_2= new_df[new_df[\"days\"] < 90 ][new_df[\"days\"] > 57 ]\n"
     ]
    },
    {
     "data": {
      "image/png": "[encoded data removed]",
      "text/plain": [
       "<Figure size 432x288 with 1 Axes>"
      ]
     },
     "metadata": {
      "needs_background": "light"
     },
     "output_type": "display_data"
    },
    {
     "data": {
      "image/png": "[encoded data removed]",
      "text/plain": [
       "<Figure size 432x288 with 1 Axes>"
      ]
     },
     "metadata": {
      "needs_background": "light"
     },
     "output_type": "display_data"
    }
   ],
   "source": [
    "total_Wales_df= get_total(Wales_df, 68)\n",
    "\n"
   ]
  },
  {
   "cell_type": "code",
   "execution_count": 341,
   "metadata": {},
   "outputs": [
    {
     "name": "stderr",
     "output_type": "stream",
     "text": [
      "<ipython-input-338-445e17944fa8>:44: UserWarning: Boolean Series key will be reindexed to match DataFrame index.\n",
      "  Y_2= new_df[new_df[\"days\"] < 90 ][new_df[\"days\"] > 57 ]\n"
     ]
    },
    {
     "data": {
      "image/png": "[encoded data removed]",
      "text/plain": [
       "<Figure size 432x288 with 1 Axes>"
      ]
     },
     "metadata": {
      "needs_background": "light"
     },
     "output_type": "display_data"
    },
    {
     "data": {
      "image/png": "[encoded data removed]",
      "text/plain": [
       "<Figure size 432x288 with 1 Axes>"
      ]
     },
     "metadata": {
      "needs_background": "light"
     },
     "output_type": "display_data"
    }
   ],
   "source": [
    "total_NI_df= get_total(NI_df)\n",
    "\n"
   ]
  },
  {
   "cell_type": "code",
   "execution_count": 364,
   "metadata": {},
   "outputs": [
    {
     "name": "stderr",
     "output_type": "stream",
     "text": [
      "<ipython-input-363-60769bac4ae3>:44: UserWarning: Boolean Series key will be reindexed to match DataFrame index.\n",
      "  Y_2= new_df[new_df[\"days\"] < 90 ][new_df[\"days\"] > 57 ]\n"
     ]
    },
    {
     "data": {
      "image/png": "[encoded data removed]",
      "text/plain": [
       "<Figure size 432x288 with 1 Axes>"
      ]
     },
     "metadata": {
      "needs_background": "light"
     },
     "output_type": "display_data"
    },
    {
     "data": {
      "image/png": "[encoded data removed]",
      "text/plain": [
       "<Figure size 432x288 with 1 Axes>"
      ]
     },
     "metadata": {
      "needs_background": "light"
     },
     "output_type": "display_data"
    }
   ],
   "source": [
    "total_England_df= get_total(England_df, 70)  #let´s check the exponential progression at day 70 "
   ]
  },
  {
   "cell_type": "markdown",
   "metadata": {},
   "source": [
    "According to the model, more than the current total amount of cases in the whole of the UK would have been reached on day 70, which corresponds to the 9th of April 2020 if the virus kept spreading exponentially. Obviously immunity and other factors would have slowed down the spread if compared to the beginning of the pandemic and **it is important to note that data at the beginning of the pandemic were highly unrealiable due to the small number of tests!!**"
   ]
  },
  {
   "cell_type": "code",
   "execution_count": null,
   "metadata": {},
   "outputs": [],
   "source": []
  }
 ],
 "metadata": {
  "kernelspec": {
   "display_name": "Python 3",
   "language": "python",
   "name": "python3"
  },
  "language_info": {
   "codemirror_mode": {
    "name": "ipython",
    "version": 3
   },
   "file_extension": ".py",
   "mimetype": "text/x-python",
   "name": "python",
   "nbconvert_exporter": "python",
   "pygments_lexer": "ipython3",
   "version": "3.8.3"
  }
 },
 "nbformat": 4,
 "nbformat_minor": 4
}
